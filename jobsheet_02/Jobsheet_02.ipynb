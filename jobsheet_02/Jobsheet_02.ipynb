{
  "nbformat": 4,
  "nbformat_minor": 0,
  "metadata": {
    "colab": {
      "provenance": [],
      "toc_visible": true,
      "authorship_tag": "ABX9TyNCFG45S4SzgdCfRfFWGclb",
      "include_colab_link": true
    },
    "kernelspec": {
      "name": "python3",
      "display_name": "Python 3"
    },
    "language_info": {
      "name": "python"
    }
  },
  "cells": [
    {
      "cell_type": "markdown",
      "metadata": {
        "id": "view-in-github",
        "colab_type": "text"
      },
      "source": [
        "<a href=\"https://colab.research.google.com/github/setyanoegraha/OOP_TI1B_2025/blob/main/jobsheet_02/Jobsheet_02.ipynb\" target=\"_parent\"><img src=\"https://colab.research.google.com/assets/colab-badge.svg\" alt=\"Open In Colab\"/></a>"
      ]
    },
    {
      "cell_type": "markdown",
      "source": [
        "# JOBSHEET 02 - DASAR KELAS DAN FUNGSI PADA BAHASA PEMROGRAMAN PYTHON"
      ],
      "metadata": {
        "id": "-tBUNf-RnFdG"
      }
    },
    {
      "cell_type": "markdown",
      "source": [
        "## Praktikum 01: Membuat dan Menggunakan Fungsi"
      ],
      "metadata": {
        "id": "7t6SCaJRohYS"
      }
    },
    {
      "cell_type": "code",
      "source": [],
      "metadata": {
        "id": "zmSGoeT0om6v"
      },
      "execution_count": null,
      "outputs": []
    },
    {
      "cell_type": "markdown",
      "source": [
        "## Praktikum 02: Modularisasi Kode dengan Fungsi"
      ],
      "metadata": {
        "id": "fpQzE_nUop2r"
      }
    },
    {
      "cell_type": "code",
      "source": [],
      "metadata": {
        "id": "rXLbZiJOouoE"
      },
      "execution_count": null,
      "outputs": []
    },
    {
      "cell_type": "markdown",
      "source": [
        "## Praktikum 03: Membuat Kelas Sederhana"
      ],
      "metadata": {
        "id": "__bvEpFsowFh"
      }
    },
    {
      "cell_type": "code",
      "source": [],
      "metadata": {
        "id": "kSmeIyKuo0Jk"
      },
      "execution_count": null,
      "outputs": []
    },
    {
      "cell_type": "markdown",
      "source": [
        "## Praktikum 04: Membuat dan Menggunakan Method dalam Kelas"
      ],
      "metadata": {
        "id": "BEGKFA9zo1Cl"
      }
    },
    {
      "cell_type": "code",
      "source": [],
      "metadata": {
        "id": "6oPh1CuepBFD"
      },
      "execution_count": null,
      "outputs": []
    },
    {
      "cell_type": "markdown",
      "source": [
        "# Penugasan"
      ],
      "metadata": {
        "id": "lAfIzAzPr1Ff"
      }
    }
  ]
}