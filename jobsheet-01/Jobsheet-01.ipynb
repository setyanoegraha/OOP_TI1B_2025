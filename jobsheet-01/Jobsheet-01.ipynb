{
  "nbformat": 4,
  "nbformat_minor": 0,
  "metadata": {
    "colab": {
      "provenance": [],
      "authorship_tag": "ABX9TyM0E0SxL1dmzBiLk0gQiN8B",
      "include_colab_link": true
    },
    "kernelspec": {
      "name": "python3",
      "display_name": "Python 3"
    },
    "language_info": {
      "name": "python"
    }
  },
  "cells": [
    {
      "cell_type": "markdown",
      "metadata": {
        "id": "view-in-github",
        "colab_type": "text"
      },
      "source": [
        "<a href=\"https://colab.research.google.com/github/setyanoegraha/OOP_TI1B_2025/blob/main/jobsheet-01/Jobsheet-01.ipynb\" target=\"_parent\"><img src=\"https://colab.research.google.com/assets/colab-badge.svg\" alt=\"Open In Colab\"/></a>"
      ]
    },
    {
      "cell_type": "markdown",
      "source": [
        "# JOBSHEET 01 - DASAR BAHASA PEMROGRAMAN PYTHON"
      ],
      "metadata": {
        "id": "ouCgHOuFqxu0"
      }
    },
    {
      "cell_type": "markdown",
      "source": [
        "## Praktikum 01: Tipe Dasar"
      ],
      "metadata": {
        "id": "KAo7P8ARvPPo"
      }
    },
    {
      "cell_type": "markdown",
      "source": [
        "Pada praktikum ini, mahasiswa akan mempelajari tipe-tipe data dasar yang digunakan dalam\n",
        "pemrograman Python, mulai dari integer, float, dan complex untuk nilai numerik, hingga\n",
        "boolean, string, list, tuple, dictionary, serta set yang memiliki karakteristik serta fungsi\n",
        "tersendiri. Mahasiswa juga akan mempraktikkan cara melakukan konversi tipe data (misalnya\n",
        "dari string ke integer), sehingga dapat lebih memahami bagaimana Python secara dinamis\n",
        "menangani berbagai format data. Pemahaman terhadap tipe data dasar ini menjadi landasan\n",
        "penting dalam mengembangkan logika program yang efisien dan terstruktur, sekaligus\n",
        "mempersiapkan mahasiswa untuk mengimplementasikan konsep pemrograman berorientasi\n",
        "objek di tahap lanjutan.\n",
        "\n",
        "Kode Praktikum:"
      ],
      "metadata": {
        "id": "LTS-Pld311p1"
      }
    },
    {
      "cell_type": "code",
      "source": [
        "# 1. Number (int, float, complex)\n",
        "# Integet (int)\n",
        "angka_int = 10\n",
        "print(\"angka_int =\", angka_int, \"->\", type(angka_int))\n",
        "\n",
        "# Float\n",
        "angka_float = 3.14\n",
        "print(\"angka_float =\", angka_float, \"->\", type(angka_float))\n",
        "\n",
        "# Complex\n",
        "angka_complex = 2 + 3j\n",
        "print(\"angka_complex =\", angka_complex, \"->\", type(angka_complex))\n",
        "\n",
        "# 2. Boolean\n",
        "is_active = True\n",
        "print(\"is_active =\", is_active, \"->\", type(is_active))\n",
        "\n",
        "# 3. String\n",
        "teks = \"Hello, Python!\"\n",
        "print(\"teks =\", teks, \"->\", type(teks))\n",
        "\n",
        "# 4. List\n",
        "# List adalah tipe data terurut dan dapat dibuah (mutable)\n",
        "daftar_angka = [1, 2, 3, 4, 5]\n",
        "print(\"daftar_angka=\", daftar_angka, \"->\", type(daftar_angka))\n",
        "\n",
        "# 5. Tuple\n",
        "# Tuple adalah tipe data terurut tetapi tidak dapat diubah (immutable)\n",
        "koordinat = (10, 20)\n",
        "print(\"koordinat =\", koordinat, \"->\", type(koordinat))\n",
        "\n",
        "# 6. Dictionary\n",
        "# Dictionary menyimpan data dalam pasangan key-value\n",
        "data_mahasiswa = {\n",
        "    \"nama\": \"Andi\",\n",
        "    \"nim\": \"A11.2022.12345\",\n",
        "    \"jurusan\": \"Teknik Informatika\"\n",
        "}\n",
        "print(\"data_mahasiswa =\", data_mahasiswa, \"->\", type(data_mahasiswa))\n",
        "\n",
        "# 7. Set\n",
        "# Set adalah tipe data yang tidak terurut, unik (tiap elemen hanya muncul)\n",
        "himpunan_angka = {1, 2, 3, 4, 5}\n",
        "print(\"himpunan_angka =\", himpunan_angka, \"->\", type(himpunan_angka))\n",
        "\n",
        "# 8. Contoh penggunaan konversi tipe data\n",
        "nilai_str = \"100\"\n",
        "print(\"\\nnilai_str =\", nilai_str, \"->\", type(nilai_str))\n",
        "nilai_int = int(nilai_str) # Konversi string ke integer\n",
        "print(\"nilai_int =\", nilai_int, \"->\", type(nilai_int))\n"
      ],
      "metadata": {
        "id": "_n17Sfs416EN",
        "outputId": "b757ce17-64a1-4fed-b4a0-08fcec4b9e6d",
        "colab": {
          "base_uri": "https://localhost:8080/"
        }
      },
      "execution_count": null,
      "outputs": [
        {
          "output_type": "stream",
          "name": "stdout",
          "text": [
            "angka_int = 10 -> <class 'int'>\n",
            "angka_float = 3.14 -> <class 'float'>\n",
            "angka_complex = (2+3j) -> <class 'complex'>\n",
            "is_active = True -> <class 'bool'>\n",
            "teks = Hello, Python! -> <class 'str'>\n",
            "daftar_angka= [1, 2, 3, 4, 5] -> <class 'list'>\n",
            "koordinat = (10, 20) -> <class 'tuple'>\n",
            "data_mahasiswa = {'nama': 'Andi', 'nim': 'A11.2022.12345', 'jurusan': 'Teknik Informatika'} -> <class 'dict'>\n",
            "himpunan_angka = {1, 2, 3, 4, 5} -> <class 'set'>\n",
            "\n",
            "nilai_str = 100 -> <class 'str'>\n",
            "nilai_int = 100 -> <class 'int'>\n"
          ]
        }
      ]
    },
    {
      "cell_type": "markdown",
      "source": [
        "## Praktikum 02: Variabel dan Operasi Dasar"
      ],
      "metadata": {
        "id": "F9nrsj0gHOy7"
      }
    },
    {
      "cell_type": "markdown",
      "source": [
        "Pada praktikum ini, mahasiswa akan mempelajari cara mendeklarasikan variabel tanpa harus\n",
        "menentukan tipe data secara eksplisit di Python. Beragam operasi dasar—seperti aritmetika\n",
        "(penjumlahan, pengurangan, perkalian, pembagian), perbandingan (==, !=, >, <, >=, <=), dan\n",
        "logika (and, or, not)—akan diterapkan untuk memanipulasi nilai yang disimpan dalam variabel.\n",
        "Dengan mempraktikkan berbagai operasi tersebut, mahasiswa dapat memahami bagaimana\n",
        "Python menangani ekspresi matematika dan logika untuk membentuk fondasi pengembangan\n",
        "aplikasi yang lebih kompleks.\n",
        "\n",
        "Kode praktikum:"
      ],
      "metadata": {
        "id": "Qe2EIvK3HWBm"
      }
    },
    {
      "cell_type": "code",
      "source": [
        "# -*- coding: utf-8 -*-\n",
        "\n",
        "# 1. Pendeklarasian Variabel\n",
        "nama = \"Budi\"\n",
        "umur = 20\n",
        "tinggi = 170.5\n",
        "is_student = True\n",
        "\n",
        "print(\"Nama =\", nama)\n",
        "print(\"Umur =\", umur)\n",
        "print(\"Tinggi =\", tinggi, \"cm\")\n",
        "print(\"Mahasiswa =\", is_student)\n",
        "\n",
        "# Python tidak memerlukan deklarasi tipe data secara eksplisit.\n",
        "# Tipe data variable akan menyesuaikan nilai yang diberikan.\n",
        "\n",
        "# 2. Operasi Aritmatika\n",
        "a = 10\n",
        "b = 3\n",
        "\n",
        "penjumlahan = a + b         # Tambah\n",
        "pengurangan = a - b         # Kurang\n",
        "perkalian = a * b           # Kali\n",
        "pembagian = a / b           # Bagi (hasil float)\n",
        "pembagian_bulat = a // b    # Bagi (bulat)\n",
        "modulus = a % b             # Sisa bagi\n",
        "pangkat = a ** b            # Pemangkatan\n",
        "\n",
        "print(\"\\nOPERASI ARITMATIKA\")\n",
        "print(\"a =\", a, \", b =\", b)\n",
        "print(\"Penjumlahan =\", penjumlahan)\n",
        "print(\"Pengurangan =\", pengurangan)\n",
        "print(\"Perkalian =\", perkalian)\n",
        "print(\"Pembagian =\", pembagian)\n",
        "print(\"Pembagian Bulat =\", pembagian_bulat)\n",
        "print(\"Modulus =\", modulus)\n",
        "print(\"Pangkat =\", pangkat)\n",
        "\n",
        "# 3. Operasi Perbandingan\n",
        "# Menghasilkan nilai Boolean (True/False)\n",
        "lebih_besar = a > b\n",
        "kurang_dari = a < b\n",
        "sama_dengan = a == b\n",
        "tidak_sama = a != b\n",
        "lebih_besar_sama = a >= b\n",
        "kurang_sama = a <= b\n",
        "\n",
        "print(\"\\nOPERASI PERBANDINGAN\")\n",
        "print(\"a > b =\", lebih_besar)\n",
        "print(\"a < b =\", kurang_dari)\n",
        "print(\"a == b=\", sama_dengan)\n",
        "print(\"a != b=\", tidak_sama)\n",
        "print(\"a >= b=\", lebih_besar_sama)\n",
        "print(\"a <= b=\", kurang_sama)\n",
        "\n",
        "# 4. Operasi Logika\n",
        "# and, or, not\n",
        "\n",
        "x = True\n",
        "y = False\n",
        "\n",
        "logika_and = x and y\n",
        "logika_or = x or y\n",
        "logika_not = not x\n",
        "\n",
        "print(\"\\nOPERASI LOGIKA\")\n",
        "print(\"x =\", x, \", y =\", y)\n",
        "print(\"x and y =\", logika_and)\n",
        "print(\"x or y =\", logika_or)\n",
        "print(\"not x =\", logika_not)\n",
        "\n",
        "# 5. Contoh penggunaan di dalam percabangan\n",
        "if a > b and b > 0:\n",
        "  print(\"\\nKondisi terpenuhi: a lebih besar dari b, dan b masih positif.\")\n",
        "else:\n",
        "  print(\"\\nKondisi tidak terpenuhi atau b <= 0.\")\n"
      ],
      "metadata": {
        "id": "M4fyQY0YHs3w",
        "outputId": "879710b5-9232-48e7-d70a-afa7a214c668",
        "colab": {
          "base_uri": "https://localhost:8080/"
        }
      },
      "execution_count": null,
      "outputs": [
        {
          "output_type": "stream",
          "name": "stdout",
          "text": [
            "Nama = Budi\n",
            "Umur = 20\n",
            "Tinggi = 170.5 cm\n",
            "Mahasiswa = True\n",
            "\n",
            "OPERASI ARITMATIKA\n",
            "a = 10 , b = 3\n",
            "Penjumlahan = 13\n",
            "Pengurangan = 7\n",
            "Perkalian = 30\n",
            "Pembagian = 3.3333333333333335\n",
            "Pembagian Bulat = 3\n",
            "Modulus = 1\n",
            "Pangkat = 1000\n",
            "\n",
            "OPERASI PERBANDINGAN\n",
            "a > b = True\n",
            "a < b = False\n",
            "a == b= False\n",
            "a != b= True\n",
            "a >= b= True\n",
            "a <= b= False\n",
            "\n",
            "OPERASI LOGIKA\n",
            "x = True , y = False\n",
            "x and y = False\n",
            "x or y = True\n",
            "not x = False\n",
            "\n",
            "Kondisi terpenuhi: a lebih besar dari b, dan b masih positif.\n"
          ]
        }
      ]
    },
    {
      "cell_type": "markdown",
      "source": [
        "## Praktikum 03: Percabangan"
      ],
      "metadata": {
        "id": "vG1pZ2uiMw18"
      }
    },
    {
      "cell_type": "markdown",
      "source": [
        "Praktikum ini berfokus pada penerapan struktur kontrol aliran program berbasis kondisi,\n",
        "meliputi penggunaan if sederhana, if-else, if-elif-else, serta if bersarang (nested if). Mahasiswa\n",
        "akan mempelajari cara menggabungkan operasi logika (and, or, not) dengan percabangan untuk\n",
        "mengolah beragam skenario keputusan dalam program. Pendekatan ini memperkenalkan\n",
        "bagaimana jalannya program dapat berbeda tergantung pada kondisi yang diperiksa.\n",
        "\n",
        "Kode Praktikum:"
      ],
      "metadata": {
        "id": "yC18mumuM1XL"
      }
    },
    {
      "cell_type": "code",
      "source": [
        "# -*- coding: utf-8 -*-\n",
        "\n",
        "# 1. IF Sederhana\n",
        "# Program hanya mengeksekusi blok jika kondisinya True\n",
        "\n",
        "nilai = 85\n",
        "print(\"Contoh IF Sederhana:\")\n",
        "if nilai > 80:\n",
        "  print(\"Selamat! Anda lulus dengan nilai tinggi.\\n\")\n",
        "\n",
        "# 2. IF-ELSE\n",
        "# Jika kondisi True, eksekusi blok if; jika False, eksekusi blok else\n",
        "\n",
        "umur = 17\n",
        "print(\"Contoh IF-ELSE:\")\n",
        "if umur >= 18:\n",
        "  print(\"Anda sudah cukup umur untuk mendapatkan SIM.\")\n",
        "else:\n",
        "  print(\"Anda belum cukup umur untuk mendapatkan SIM.\\n\")\n",
        "\n",
        "# 3. IF-ELIF-ELSE\n",
        "# Menangani banyak kondisi secara berurutan.\n",
        "# Jika ada kondisi yang terpenuhi, blok yang bersangkutan dieksekusi,\n",
        "# lalu program melewati blok kondisi setelahnya.\n",
        "\n",
        "hari = \"Rabu\"\n",
        "print(\"Contoh IF-ELIF-ELSE:\")\n",
        "if hari == \"Senin\":\n",
        "  print(\"Hari Senin - Saatnya kembali bekerja!\")\n",
        "elif hari == \"Selasa\":\n",
        "  print(\"Hari Selasa - Jadwal rapat mingguan.\")\n",
        "elif hari == \"Rabu\":\n",
        "  print(\"Hari Rabu - Ada diskon di beberapa toko.\")\n",
        "else:\n",
        "  print(\"Hari lainnya - Atur jadwalmu dengan baik.\\n\")\n",
        "\n",
        "# 4. IF Bersarang (Nested IF)\n",
        "# Kondisi di dalam kondisi, biasa digunakan jika kita perlu\n",
        "# memeriksa sub-kondisi setelah kondisi pertama terpenuhi.\n",
        "\n",
        "suhu = 35\n",
        "print(\"Contoh IF Bersarang (Nested IF):\")\n",
        "if suhu > 30:\n",
        "  print(\"Cuaca cukup panas.\")\n",
        "  if suhu > 40:\n",
        "    print(\"Bahkan sangat terik! Disarankan banyak minum air.\")\n",
        "  else:\n",
        "    print(\"Masih relatif normal, tapi tetap jaga kesehatan.\")\n",
        "else:\n",
        "  print(\"Cuaca sepertinya cukup.\\n\")\n",
        "\n",
        "# 5. Menggabungkan Percabangan dengan Operasi Logika\n",
        "# Memeriksa beberapa kondisi sekaligus dengan and, or, not\n",
        "nilai_teori = 75\n",
        "nilai_praktik = 80\n",
        "print(\"Contoh IF dengan Operasi Logika AND/OR:\")\n",
        "if nilai_teori >= 70 and nilai_praktik >= 70:\n",
        "  print(\"Anda lulus karena nilai teori dan praktik memadai.\")\n",
        "elif nilai_teori < 70 and nilai_praktik < 70:\n",
        "  print(\"Anda perlu meningkatkan nilai teori dan praktik.\")\n",
        "elif nilai_teori < 70:\n",
        "  print(\"Anda perlu meningkatkan nilai teori.\")\n",
        "else:\n",
        "  print(\"Anda perlu meningkatkan nilai praktik.\\n\")\n",
        "\n",
        "# 6. Penggunaan If Ternary (atau Conditional Expression)\n",
        "# Bentuk ringkas: <hasil_if_true> if <kondisi> else <hasil_if_false>\n",
        "\n",
        "angka = -5\n",
        "print(\"Contoh If Ternary (Conditional Expression) :\")\n",
        "status = \"Positif\" if angka > 0 else \"Negatif atau Nol\"\n",
        "print(\"Angka =\", angka, \"=>\", status)"
      ],
      "metadata": {
        "id": "OKxUsc9UM0X4",
        "outputId": "fb272343-1d38-4c95-d55b-1aba0f7d3bd6",
        "colab": {
          "base_uri": "https://localhost:8080/"
        }
      },
      "execution_count": null,
      "outputs": [
        {
          "output_type": "stream",
          "name": "stdout",
          "text": [
            "Contoh IF Sederhana:\n",
            "Selamat! Anda lulus dengan nilai tinggi.\n",
            "\n",
            "Contoh IF-ELSE:\n",
            "Anda belum cukup umur untuk mendapatkan SIM.\n",
            "\n",
            "Contoh IF-ELIF-ELSE:\n",
            "Hari Rabu - Ada diskon di beberapa toko.\n",
            "Contoh IF Bersarang (Nested IF):\n",
            "Cuaca cukup panas.\n",
            "Masih relatif normal, tapi tetap jaga kesehatan.\n",
            "Contoh IF dengan Operasi Logika AND/OR:\n",
            "Anda lulus karena nilai teori dan praktik memadai.\n",
            "Contoh If Ternary (Conditional Expression) :\n",
            "Angka = -5 => Negatif atau Nol\n"
          ]
        }
      ]
    },
    {
      "cell_type": "markdown",
      "source": [
        "## Praktikum 04: Perulangan"
      ],
      "metadata": {
        "id": "Ov-DOKuLRKiS"
      }
    },
    {
      "cell_type": "markdown",
      "source": [
        "Pada praktikum ini, mahasiswa akan mendalami cara mengulang eksekusi suatu blok kode\n",
        "berkali-kali menggunakan struktur perulangan for dan while. Beragam fitur lanjutan, seperti\n",
        "break, continue, serta loop bersarang (nested loop), turut diulas untuk memberikan fleksibilitas\n",
        "lebih dalam mengelola logika program. Mahasiswa juga akan mempelajari penggunaan else\n",
        "pada loop yang merupakan fitur unik Python, serta bagaimana memanfaatkan pass sebagai\n",
        "placeholder.\n",
        "\n",
        "Kode Praktikum:"
      ],
      "metadata": {
        "id": "GRAbfUw4RTmT"
      }
    },
    {
      "cell_type": "code",
      "source": [
        "#-*- coding: utf-8 -*-\n",
        "# 1. FOR Loop dengan range()\n",
        "print(\"1) For loop dengan range()\")\n",
        "for i in range(5):\n",
        "  print(\"Perulangan ke-\", i)\n",
        "# range(5) menghasilkan nilai 0, 1, 2, 3, dan 4\n",
        "# Sehingga perulangan akan berjalan sebanyak 5 kali\n",
        "\n",
        "print() # pemisah output\n",
        "\n",
        "# 2. FOR Loop untuk mengiterasi List\n",
        "print(\"2) FOR Loop mengiterasi list\")\n",
        "buah = [\"apel\", \"mangga\", \"jeruk\", \"pisang\"]\n",
        "for item in buah:\n",
        "  print(\"Buah:\", item)\n",
        "# Loop akan mengeksekusi setiap elemen dalam list \"buah\"\n",
        "\n",
        "print()\n",
        "\n",
        "# 3. WHILE Loop\n",
        "print(\"3) WHILE loop sederhana\")\n",
        "count = 0\n",
        "while count < 5:\n",
        "  print(\"count =\", count)\n",
        "  count += 1 # increment\n",
        "# Perulangan while terus dijalankan selama kondisi (count < 5) bernilai True\n",
        "print()\n",
        "\n",
        "# 4. BREAK pada Loop\n",
        "print(\"4) BREAK di dalam loop\")\n",
        "for i in range(10):\n",
        "  if i == 3:\n",
        "    print(\"Loop dihentikan pada i =\", i)\n",
        "    break # mengakhiri loop saat i = 3\n",
        "#keyword break langsung menghentikan keseluruhan perulangan\n",
        "print()\n",
        "\n",
        "# 5. CONTINUE pada Loop\n",
        "print(\"5) CONTINUE di dalam loop\")\n",
        "for i in range(5):\n",
        "  if i == 2:\n",
        "    print(\"Lewati i =\", i, \"dengan continue\")\n",
        "    continue # melewati iterasi saat ini dan lanjut ke iterasi berikutnya\n",
        "    print(\"i =\", i)\n",
        "  # Saat i = 2, baris print(\"i =\", i) tidak akan dieksekusi\n",
        "print()\n",
        "\n",
        "# 6. NESTED Loop (Loop Bersarang)\n",
        "print(\"6) NESTED loop\")\n",
        "for i in range(3):          # Loop luar (outer loop)\n",
        "  for j in range(2):        # Loop dalam (inner loop)\n",
        "    print(f\"i={i}, j={j}\")\n",
        "# Pada setiap iterasi i, loop j akan berjalan dari 0 sampai 1\n",
        "print()\n",
        "\n",
        "# 7. Memanfaatkan ELSE pada Loop\n",
        "print(\"7) ELSE pada loop for/while\")\n",
        "# Python memiliki fitur unik: blok else pada loop\n",
        "# Blok else akan dieksekusi jika loop selesai tanpa di-break.\n",
        "\n",
        "for x in range(3):\n",
        "  print(\"x =\", x)\n",
        "else:\n",
        "  print(\"Loop for telah selesai tanpa break.\\n\")\n",
        "\n",
        "y = 0\n",
        "while y < 3:\n",
        "  print(\"y =\", y)\n",
        "  y += 1\n",
        "else:\n",
        "  print(\"Loop while telah selesai tanpa break.\\n\")\n",
        "\n",
        "# 8. PASS sebagai placeholder\n",
        "print(\"8) PASS (placeholder)\")\n",
        "for i in range(3):\n",
        "  if i == 1:\n",
        "    pass # pass tidak melakukan apa-apa, digunakan sebagai placholder.\n",
        "  print(\"i =\", i)"
      ],
      "metadata": {
        "id": "l7C27I7kRPtJ",
        "outputId": "11dbe8c1-c1fd-4a78-d2eb-480743ed78a8",
        "colab": {
          "base_uri": "https://localhost:8080/"
        }
      },
      "execution_count": null,
      "outputs": [
        {
          "output_type": "stream",
          "name": "stdout",
          "text": [
            "1) For loop dengan range()\n",
            "Perulangan ke- 0\n",
            "Perulangan ke- 1\n",
            "Perulangan ke- 2\n",
            "Perulangan ke- 3\n",
            "Perulangan ke- 4\n",
            "\n",
            "2) FOR Loop mengiterasi list\n",
            "Buah: apel\n",
            "Buah: mangga\n",
            "Buah: jeruk\n",
            "Buah: pisang\n",
            "\n",
            "3) WHILE loop sederhana\n",
            "count = 0\n",
            "count = 1\n",
            "count = 2\n",
            "count = 3\n",
            "count = 4\n",
            "\n",
            "4) BREAK di dalam loop\n",
            "Loop dihentikan pada i = 3\n",
            "\n",
            "5) CONTINUE di dalam loop\n",
            "Lewati i = 2 dengan continue\n",
            "\n",
            "6) NESTED loop\n",
            "i=0, j=0\n",
            "i=0, j=1\n",
            "i=1, j=0\n",
            "i=1, j=1\n",
            "i=2, j=0\n",
            "i=2, j=1\n",
            "\n",
            "7) ELSE pada loop for/while\n",
            "x = 0\n",
            "x = 1\n",
            "x = 2\n",
            "Loop for telah selesai tanpa break.\n",
            "\n",
            "y = 0\n",
            "y = 1\n",
            "y = 2\n",
            "Loop while telah selesai tanpa break.\n",
            "\n",
            "8) PASS (placeholder)\n",
            "i = 0\n",
            "i = 1\n",
            "i = 2\n"
          ]
        }
      ]
    },
    {
      "cell_type": "markdown",
      "source": [
        "# Penugasan"
      ],
      "metadata": {
        "id": "5X3Tg9cQzKgT"
      }
    },
    {
      "cell_type": "markdown",
      "source": [
        "## Program 1"
      ],
      "metadata": {
        "id": "1zIP-mpWzQIJ"
      }
    },
    {
      "cell_type": "markdown",
      "source": [
        "Buat program untuk menghitung BMI (Body Mass Index) dengan\n",
        "rumus:\n",
        "\n",
        "𝐵𝑀𝐼 =\n",
        "𝑏𝑒𝑟𝑎𝑡(𝑘𝑔) /\n",
        "𝑡𝑖𝑛𝑔𝑔𝑖(𝑚)²\n",
        "\n",
        "a. Input: berat (kg) dan tinggi (cm).\n",
        "\n",
        "b. Output: nilai BMI dan kategori (Underweight dibawah 18.5, Normal 18.5-24.9,\n",
        "Overweight 25-29.9).\n",
        "\n",
        "Untuk mendapatkan input, dapat mengguanakan perintah input() pada program\n",
        "python."
      ],
      "metadata": {
        "id": "wUXAyExF0Mrx"
      }
    },
    {
      "cell_type": "code",
      "source": [
        "def hitung_bmi(berat, tinggi):\n",
        "  # Konversi tinggi dari cm ke m\n",
        "  tinggi_m = tinggi / 100\n",
        "  # Hitung BMI\n",
        "  bmi = berat / (tinggi_m ** 2)\n",
        "  return bmi\n",
        "\n",
        "def kategori_bmi(bmi):\n",
        "  if bmi < 18.5:\n",
        "    return \"Underweight\"\n",
        "  elif bmi >= 18.5 and bmi <= 24.9:\n",
        "    return \"Normal\"\n",
        "  elif bmi >= 25 and bmi <= 29.9:\n",
        "    return \"Overweight\"\n",
        "\n",
        "def main():\n",
        "  print(\"Program Menghitung BMI (Body Mass Index)\")\n",
        "  print(\"----------------------------------------\")\n",
        "\n",
        "  while True:\n",
        "    try:\n",
        "        # Input Berat dan Tinggi\n",
        "        berat = float(input(\"Masukkan Berat Badan (kg):\"))\n",
        "        tinggi = float(input(\"Masukkan Tinggi Badan (cm):\"))\n",
        "\n",
        "        # Validasi input\n",
        "        if berat <= 0.0 or tinggi <= 0.0:\n",
        "          print(\"Input tidak valid. Berat dan tinggi harus lebih dari 0.\\n\")\n",
        "          continue\n",
        "\n",
        "        # Menghitung BMI\n",
        "        bmi = hitung_bmi(berat, tinggi)\n",
        "\n",
        "        # Tentukan Kategori BMI\n",
        "        kategori = kategori_bmi(bmi)\n",
        "\n",
        "        # Cetak Hasil\n",
        "        print(\"\\nHasil Perhitungan BMI:\")\n",
        "        print(\"------------------------\")\n",
        "        print(f\"Berat Badan : {bmi:.2f}\")\n",
        "        print(f\"Kategori    : {kategori}\")\n",
        "        break # Keluar dari loop jika input valid\n",
        "\n",
        "    except ValueError:\n",
        "      print(\"Input tidak valid. Harap masukkan angka yang benar.\\n\")\n",
        "\n",
        "if __name__ == \"__main__\":\n",
        "  main()\n"
      ],
      "metadata": {
        "id": "PpPE4UWUzONa",
        "outputId": "0bc64072-0dce-4bdc-fc7a-6b3b011200ad",
        "colab": {
          "base_uri": "https://localhost:8080/"
        }
      },
      "execution_count": null,
      "outputs": [
        {
          "output_type": "stream",
          "name": "stdout",
          "text": [
            "Program Menghitung BMI (Body Mass Index)\n",
            "----------------------------------------\n",
            "Masukkan Berat Badan (kg):bismillah\n",
            "Input tidak valid. Harap masukkan angka yang benar.\n",
            "\n",
            "Masukkan Berat Badan (kg):[[777\n",
            "Input tidak valid. Harap masukkan angka yang benar.\n",
            "\n",
            "Masukkan Berat Badan (kg):-74\n",
            "Masukkan Tinggi Badan (cm):165\n",
            "Input tidak valid. Berat dan tinggi harus lebih dari 0.\n",
            "\n",
            "Masukkan Berat Badan (kg):74\n",
            "Masukkan Tinggi Badan (cm):165\n",
            "\n",
            "Hasil Perhitungan BMI:\n",
            "------------------------\n",
            "Berat Badan : 27.18\n",
            "Kategori    : Overweight\n"
          ]
        }
      ]
    },
    {
      "cell_type": "markdown",
      "source": [
        "## Program 2"
      ],
      "metadata": {
        "id": "bjqBFGdj9fyi"
      }
    },
    {
      "cell_type": "markdown",
      "source": [
        " Buat program yang mengecek apakah suatu bilangan genap, ganjil,\n",
        "atau prima."
      ],
      "metadata": {
        "id": "UkQWGxAs9kBv"
      }
    },
    {
      "cell_type": "code",
      "source": [
        "def cek_genap_ganjil(bilangan):\n",
        "  if bilangan % 2 == 0:\n",
        "    return \"genap\"\n",
        "  else:\n",
        "    return \"ganjil\"\n",
        "\n",
        "def cek_prima(bilangan):\n",
        "  if bilangan <= 1:\n",
        "    return False\n",
        "  if bilangan == 2:\n",
        "    return True\n",
        "  if bilangan % 2 == 0:\n",
        "    return False\n",
        "  for i in range(3, int(bilangan**0.5) + 1, 2):\n",
        "    if bilangan % i == 0:\n",
        "      return False\n",
        "  return True\n",
        "\n",
        "def main():\n",
        "  print(\"Program Mengecek Bilangan Genap, Ganjil, atau Prima\")\n",
        "  print(\"---------------------------------------------------\")\n",
        "\n",
        "  while True:\n",
        "    try:\n",
        "      # Input bilangan\n",
        "      bilangan = int(input(\"Masukkan bilangan bulat positif:\"))\n",
        "\n",
        "      # Validasi input\n",
        "      if bilangan < 0:\n",
        "        print(\"Input tidak valid. Masukkan bilangan bulat positif.\\n\")\n",
        "        continue\n",
        "\n",
        "      # Cek genap/ganjil\n",
        "      jenis = cek_genap_ganjil(bilangan)\n",
        "      print(f\"Bilangan {bilangan} adalah bilangan {jenis}.\\n\")\n",
        "\n",
        "      # Cek prima\n",
        "      if cek_prima(bilangan):\n",
        "        print(f\"{bilangan} adalah bilangan prima.\\n\")\n",
        "      else:\n",
        "        print(f\"{bilangan} bukan bilangan prima.\\n\")\n",
        "      break # Keluar dari loop jika input valid\n",
        "\n",
        "    except ValueError:\n",
        "      print(\"Input tidak valid. Harap masukkan bilangan bulat.\\n\")\n",
        "\n",
        "if __name__ == \"__main__\":\n",
        "  main()"
      ],
      "metadata": {
        "id": "c4ihQcil9hYX",
        "outputId": "c832f7ce-b28a-4a8c-ce9b-b71ed4c31e08",
        "colab": {
          "base_uri": "https://localhost:8080/"
        }
      },
      "execution_count": 1,
      "outputs": [
        {
          "output_type": "stream",
          "name": "stdout",
          "text": [
            "Program Mengecek Bilangan Genap, Ganjil, atau Prima\n",
            "---------------------------------------------------\n",
            "Masukkan bilangan bulat positif:-9\n",
            "Input tidak valid. Masukkan bilangan bulat positif.\n",
            "\n",
            "Masukkan bilangan bulat positif:yaa\n",
            "Input tidak valid. Harap masukkan bilangan bulat.\n",
            "\n",
            "Masukkan bilangan bulat positif:13\n",
            "Bilangan 13 adalah bilangan ganjil.\n",
            "\n",
            "13 adalah bilangan prima.\n",
            "\n"
          ]
        }
      ]
    }
  ]
}